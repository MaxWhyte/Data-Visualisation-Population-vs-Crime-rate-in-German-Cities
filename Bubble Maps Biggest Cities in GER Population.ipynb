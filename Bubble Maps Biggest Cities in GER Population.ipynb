{
 "cells": [
  {
   "cell_type": "code",
   "execution_count": 34,
   "metadata": {
    "scrolled": true
   },
   "outputs": [
    {
     "data": {
      "text/html": [
       "        <script type=\"text/javascript\">\n",
       "        window.PlotlyConfig = {MathJaxConfig: 'local'};\n",
       "        if (window.MathJax) {MathJax.Hub.Config({SVG: {font: \"STIX-Web\"}});}\n",
       "        if (typeof require !== 'undefined') {\n",
       "        require.undef(\"plotly\");\n",
       "        requirejs.config({\n",
       "            paths: {\n",
       "                'plotly': ['https://cdn.plot.ly/plotly-latest.min']\n",
       "            }\n",
       "        });\n",
       "        require(['plotly'], function(Plotly) {\n",
       "            window._Plotly = Plotly;\n",
       "        });\n",
       "        }\n",
       "        </script>\n",
       "        "
      ]
     },
     "metadata": {},
     "output_type": "display_data"
    }
   ],
   "source": [
    "import plotly.plotly as py\n",
    "import plotly.graph_objs as go\n",
    "import pandas as pd\n",
    "import math\n",
    "import plotly.offline as offline\n",
    "\n",
    "offline.init_notebook_mode(connected = True)\n",
    "mapbox_access_token = 'pk.eyJ1IjoibWF4d2h5dGUiLCJhIjoiY2p5MDd4dTV4MDBkZTNtbnl2ZHV5d3l6eiJ9.ozsMwaDDVD_I5588WsRrLw'\n",
    "\n",
    "df = pd.read_csv('datasets/German_cities_population.csv')\n",
    "df2 = pd.read_csv('datasets/crimes _per_inhabitant.csv')\n",
    "\n",
    "latitudes = round(df['lat'], 2) # rounding to 2 digits after comma\n",
    "longitudes = round(df['lng'], 2)"
   ]
  },
  {
   "cell_type": "code",
   "execution_count": 58,
   "metadata": {},
   "outputs": [
    {
     "data": {
      "text/html": [
       "<iframe id=\"igraph\" scrolling=\"no\" style=\"border:none;\" seamless=\"seamless\" src=\"https://plot.ly/~Loonycorn123/8.embed\" height=\"525px\" width=\"100%\"></iframe>"
      ],
      "text/plain": [
       "<chart_studio.tools.PlotlyDisplay object>"
      ]
     },
     "execution_count": 58,
     "metadata": {},
     "output_type": "execute_result"
    }
   ],
   "source": [
    "data = [\n",
    "    go.Scattermapbox( # Cities as bubbles on the map: bigger -> bigger population\n",
    "        lat = latitudes,\n",
    "        lon = longitudes,\n",
    "        mode='markers',\n",
    "        marker=go.scattermapbox.Marker(\n",
    "            size = df['population'] / 40000, # for scaling population bubbles to proper size\n",
    "            color = \"blue\",\n",
    "            opacity = 0.1\n",
    "        ),\n",
    "        text=df['city'],\n",
    "    ),\n",
    "    \n",
    "    go.Scattermapbox( #  murder rate as ratio murders/population\n",
    "        lat = latitudes,\n",
    "        lon = longitudes,\n",
    "        mode='markers',\n",
    "        marker=go.scattermapbox.Marker(\n",
    "            size = (df2[\"No of Crimes per 100k\"])/ 500 , # for scaling crime bubbles to proper size\n",
    "            color = df2[\"No of Crimes per 100k\"], # color according to valu: higher crime -> lighter color\n",
    "            colorscale = 'Viridis',\n",
    "            showscale = True,\n",
    "            opacity = 0.8\n",
    "        ),\n",
    "        text=df2[\"No of Crimes per 100k\"],\n",
    "    )\n",
    "]\n",
    "\n",
    "\n",
    "layout = go.Layout(\n",
    "    title='Population vs Crime rate per 100.000 inhabitants in German cities',\n",
    "    autosize=True,\n",
    "    showlegend=False, # removes the legens for traces 0 and 1 but keeps colorscale on the right\n",
    "    hovermode='closest',\n",
    "    mapbox=go.layout.Mapbox(\n",
    "        accesstoken=mapbox_access_token,\n",
    "        bearing=0,\n",
    "        center=go.layout.mapbox.Center(\n",
    "            lat=52.51,\n",
    "            lon=13.4\n",
    "        ),\n",
    "        pitch=0,\n",
    "        zoom=5,\n",
    "        style=\"light\" # light style = best style !\n",
    "    ),\n",
    ")\n",
    "\n",
    "fig = go.Figure(data=data, layout=layout)\n",
    "py.iplot(fig, filename='Multiple Mapbox')"
   ]
  }
 ],
 "metadata": {
  "kernelspec": {
   "display_name": "Python 3",
   "language": "python",
   "name": "python3"
  },
  "language_info": {
   "codemirror_mode": {
    "name": "ipython",
    "version": 3
   },
   "file_extension": ".py",
   "mimetype": "text/x-python",
   "name": "python",
   "nbconvert_exporter": "python",
   "pygments_lexer": "ipython3",
   "version": "3.7.3"
  }
 },
 "nbformat": 4,
 "nbformat_minor": 2
}
