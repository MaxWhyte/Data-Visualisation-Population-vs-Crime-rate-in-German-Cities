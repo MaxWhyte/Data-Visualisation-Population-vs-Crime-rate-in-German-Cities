{
 "cells": [
  {
   "cell_type": "code",
   "execution_count": 9,
   "metadata": {
    "scrolled": true
   },
   "outputs": [
    {
     "data": {
      "text/html": [
       "        <script type=\"text/javascript\">\n",
       "        window.PlotlyConfig = {MathJaxConfig: 'local'};\n",
       "        if (window.MathJax) {MathJax.Hub.Config({SVG: {font: \"STIX-Web\"}});}\n",
       "        if (typeof require !== 'undefined') {\n",
       "        require.undef(\"plotly\");\n",
       "        requirejs.config({\n",
       "            paths: {\n",
       "                'plotly': ['https://cdn.plot.ly/plotly-latest.min']\n",
       "            }\n",
       "        });\n",
       "        require(['plotly'], function(Plotly) {\n",
       "            window._Plotly = Plotly;\n",
       "        });\n",
       "        }\n",
       "        </script>\n",
       "        "
      ]
     },
     "metadata": {},
     "output_type": "display_data"
    }
   ],
   "source": [
    "import plotly.graph_objs as go\n",
    "import pandas as pd\n",
    "import math\n",
    "import plotly.offline as offline\n",
    "import chart_studio.plotly as py\n",
    "\n",
    "offline.init_notebook_mode(connected = True)\n",
    "\n",
    "df = pd.read_excel('datasets/German_cities_population.xlsx', sheet_name='German_cities_population')\n",
    "df.rename(columns={'No of Crimes per 100k': 'crimes'}, inplace=True) # renaming long column name to shorter handle\n",
    "\n",
    "latitudes = round(df['lat'], 2) # rounding to 2 digits after comma \n",
    "longitudes = round(df['lng'], 2)"
   ]
  },
  {
   "cell_type": "code",
   "execution_count": 10,
   "metadata": {},
   "outputs": [],
   "source": [
    "f = open(\"mapbox-token.txt\", \"r\") # read token from local textfile for security reasons\n",
    "mapbox_access_token = f.read()\n",
    "f.close()\n",
    "\n",
    "chart_studio.tools.set_credentials_file(username='MaxWhyte', api_key='Fi19s2nIi5l8NM4feGup') #added Plotly Credentials after Plotly decided to screw up their old working module "
   ]
  },
  {
   "cell_type": "code",
   "execution_count": 11,
   "metadata": {
    "scrolled": true
   },
   "outputs": [
    {
     "data": {
      "text/html": [
       "\n",
       "        <iframe\n",
       "            width=\"100%\"\n",
       "            height=\"525px\"\n",
       "            src=\"https://plot.ly/~MaxWhyte/3.embed\"\n",
       "            frameborder=\"0\"\n",
       "            allowfullscreen\n",
       "        ></iframe>\n",
       "        "
      ],
      "text/plain": [
       "<IPython.lib.display.IFrame at 0x11e651650>"
      ]
     },
     "execution_count": 11,
     "metadata": {},
     "output_type": "execute_result"
    }
   ],
   "source": [
    "data = [\n",
    "    go.Scattermapbox( # Cities as bubbles on the map: bigger -> bigger population\n",
    "        lat = latitudes,\n",
    "        lon = longitudes,\n",
    "        mode = 'markers+text',\n",
    "        showlegend = True,\n",
    "        hoverinfo = \"text\",\n",
    "        hovertext = \"City: \" + df.city.map(str) + \"<br>\" + \"Inhabitants: \" + df.population.map(str)+ \"<br>\" + \"Crimes per 100k: \" + df.crimes.map(str), # this creates a multiline hovertext with info from the dataframe\n",
    "        marker = go.scattermapbox.Marker(\n",
    "            size = df['population'] / 40000, # for scaling population bubbles to proper size\n",
    "            showscale = True,\n",
    "            color = df[\"crimes\"], # color according to value: higher crime -> redder color\n",
    "            colorscale = 'Rainbow',\n",
    "            opacity = 0.8\n",
    "        ),\n",
    "        text = df.city.map(str), \n",
    "        name = \"Size: # of inhabitants    -    Color: Crimes per 100k inhabitants\",\n",
    "    )\n",
    "]\n",
    "\n",
    "\n",
    "layout = go.Layout(\n",
    "    title='Population vs Crime rate per 100.000 inhabitants in German cities',\n",
    "    autosize=True,\n",
    "    showlegend=True,\n",
    "    legend=dict(orientation=\"h\"),\n",
    "    hovermode='closest',\n",
    "    mapbox=go.layout.Mapbox(\n",
    "        accesstoken=mapbox_access_token,\n",
    "        bearing=0,\n",
    "        center=go.layout.mapbox.Center(\n",
    "            lat=51.5,\n",
    "            lon=9.9\n",
    "        ),\n",
    "        pitch=0,\n",
    "        zoom=5,\n",
    "        style=\"light\" # light style = best style !\n",
    "    ),\n",
    ")\n",
    "\n",
    "fig = go.Figure(data=data, layout=layout)\n",
    "py.iplot(fig, filename='Mapbox')"
   ]
  },
  {
   "cell_type": "code",
   "execution_count": null,
   "metadata": {},
   "outputs": [],
   "source": []
  }
 ],
 "metadata": {
  "kernelspec": {
   "display_name": "Python 3",
   "language": "python",
   "name": "python3"
  },
  "language_info": {
   "codemirror_mode": {
    "name": "ipython",
    "version": 3
   },
   "file_extension": ".py",
   "mimetype": "text/x-python",
   "name": "python",
   "nbconvert_exporter": "python",
   "pygments_lexer": "ipython3",
   "version": "3.7.4"
  }
 },
 "nbformat": 4,
 "nbformat_minor": 2
}
