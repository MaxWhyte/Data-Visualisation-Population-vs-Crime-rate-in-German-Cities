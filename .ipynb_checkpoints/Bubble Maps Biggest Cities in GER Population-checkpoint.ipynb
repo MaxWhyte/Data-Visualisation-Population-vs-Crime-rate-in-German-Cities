{
 "cells": [
  {
   "cell_type": "code",
   "execution_count": 34,
   "metadata": {
    "scrolled": true
   },
   "outputs": [
    {
     "data": {
      "text/html": [
       "        <script type=\"text/javascript\">\n",
       "        window.PlotlyConfig = {MathJaxConfig: 'local'};\n",
       "        if (window.MathJax) {MathJax.Hub.Config({SVG: {font: \"STIX-Web\"}});}\n",
       "        if (typeof require !== 'undefined') {\n",
       "        require.undef(\"plotly\");\n",
       "        requirejs.config({\n",
       "            paths: {\n",
       "                'plotly': ['https://cdn.plot.ly/plotly-latest.min']\n",
       "            }\n",
       "        });\n",
       "        require(['plotly'], function(Plotly) {\n",
       "            window._Plotly = Plotly;\n",
       "        });\n",
       "        }\n",
       "        </script>\n",
       "        "
      ]
     },
     "metadata": {},
     "output_type": "display_data"
    }
   ],
   "source": [
    "import plotly.plotly as py\n",
    "import plotly.graph_objs as go\n",
    "import pandas as pd\n",
    "import math\n",
    "import plotly.offline as offline\n",
    "\n",
    "offline.init_notebook_mode(connected = True)\n",
    "mapbox_access_token = 'pk.eyJ1IjoibWF4d2h5dGUiLCJhIjoiY2p5MDd4dTV4MDBkZTNtbnl2ZHV5d3l6eiJ9.ozsMwaDDVD_I5588WsRrLw'\n",
    "\n",
    "df = pd.read_csv('datasets/German_cities_population.csv')\n",
    "df2 = pd.read_csv('datasets/crimes _per_inhabitant.csv')\n",
    "\n",
    "latitudes = round(df['lat'], 2) # rounding to 2 digits after comma\n",
    "longitudes = round(df['lng'], 2)"
   ]
  },
  {
   "cell_type": "code",
   "execution_count": 97,
   "metadata": {},
   "outputs": [],
   "source": [
    "crimes = df2[\"No of Crimes per 100k\"]\n",
    "city = df['city']\n",
    "population = df['population']\n",
    "#text = city + str(population) + str(crimes)"
   ]
  },
  {
   "cell_type": "code",
   "execution_count": 96,
   "metadata": {
    "scrolled": true
   },
   "outputs": [
    {
     "data": {
      "text/html": [
       "<iframe id=\"igraph\" scrolling=\"no\" style=\"border:none;\" seamless=\"seamless\" src=\"https://plot.ly/~Loonycorn123/8.embed\" height=\"525px\" width=\"100%\"></iframe>"
      ],
      "text/plain": [
       "<chart_studio.tools.PlotlyDisplay object>"
      ]
     },
     "execution_count": 96,
     "metadata": {},
     "output_type": "execute_result"
    }
   ],
   "source": [
    "data = [\n",
    "    go.Scattermapbox( # Cities as bubbles on the map: bigger -> bigger population\n",
    "        lat = latitudes,\n",
    "        lon = longitudes,\n",
    "        mode = 'markers+text',\n",
    "        showlegend = True,\n",
    "        hoverinfo = \"text\" + ,\n",
    "        marker = go.scattermapbox.Marker(\n",
    "            size = df['population'] / 40000, # for scaling population bubbles to proper size\n",
    "            showscale = True,\n",
    "            color = df2[\"No of Crimes per 100k\"], # color according to valu: higher crime -> lighter color\n",
    "            colorscale = 'Rainbow',\n",
    "            opacity = 0.8\n",
    "        ),\n",
    "        text = city,\n",
    "        name = \"Size: # of inhabitants    Color: Crimes per 100k inhabitants\",\n",
    "    )\n",
    "]\n",
    "\n",
    "\n",
    "layout = go.Layout(\n",
    "    title='Population vs Crime rate per 100.000 inhabitants in German cities',\n",
    "    autosize=True,\n",
    "    showlegend=True,\n",
    "    legend=dict(orientation=\"h\"),\n",
    "    hovermode='closest',\n",
    "    mapbox=go.layout.Mapbox(\n",
    "        accesstoken=mapbox_access_token,\n",
    "        bearing=0,\n",
    "        center=go.layout.mapbox.Center(\n",
    "            lat=51.5,\n",
    "            lon=9.9\n",
    "        ),\n",
    "        pitch=0,\n",
    "        zoom=5,\n",
    "        style=\"light\" # light style = best style !\n",
    "    ),\n",
    ")\n",
    "\n",
    "fig = go.Figure(data=data, layout=layout)\n",
    "py.iplot(fig, filename='Multiple Mapbox')"
   ]
  }
 ],
 "metadata": {
  "kernelspec": {
   "display_name": "Python 3",
   "language": "python",
   "name": "python3"
  },
  "language_info": {
   "codemirror_mode": {
    "name": "ipython",
    "version": 3
   },
   "file_extension": ".py",
   "mimetype": "text/x-python",
   "name": "python",
   "nbconvert_exporter": "python",
   "pygments_lexer": "ipython3",
   "version": "3.7.3"
  }
 },
 "nbformat": 4,
 "nbformat_minor": 2
}
